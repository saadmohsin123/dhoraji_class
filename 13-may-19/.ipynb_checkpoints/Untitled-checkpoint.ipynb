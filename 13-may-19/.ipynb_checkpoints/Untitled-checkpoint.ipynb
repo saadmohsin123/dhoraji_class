{
 "cells": [
  {
   "cell_type": "markdown",
   "metadata": {},
   "source": [
    "# FUNCTIONS\n"
   ]
  },
  {
   "cell_type": "code",
   "execution_count": null,
   "metadata": {},
   "outputs": [],
   "source": [
    "def couples(hname,wname):\n",
    "    print('The name of husband is :',hname)\n",
    "    print('The name of wife is :',wname)\n",
    "    \n",
    "couples(wname = 'fatima' , hname = 'Ali')"
   ]
  },
  {
   "cell_type": "code",
   "execution_count": null,
   "metadata": {},
   "outputs": [],
   "source": [
    "def couples(hname,wname):\n",
    "    print('The name of husband is :',hname)\n",
    "    print('The name of wife is :',wname)\n",
    "    \n",
    "couples('Ali','Fatima')"
   ]
  },
  {
   "cell_type": "code",
   "execution_count": null,
   "metadata": {},
   "outputs": [],
   "source": [
    "def couples(hname , wname ):\n",
    "    print(f'The name of husband is : {hname} and the name of wife is : {wname}.')\n",
    "couples('Ali','Fatima')"
   ]
  },
  {
   "cell_type": "code",
   "execution_count": 7,
   "metadata": {},
   "outputs": [],
   "source": [
    "def calculator():\n",
    "    print('\\t\\t\\t\\t\\t CALCULATOR')\n",
    "    print('Press + to Add')\n",
    "    print('Press - to Subtract')\n",
    "    print('Press * to Multiply')\n",
    "    print('Press / to Divide')\n",
    "    print('Press Quit to Exit only in Operation \\n')\n",
    "    while True:\n",
    "        num1=int(input('Enter a Number:'))\n",
    "        num2=int(input('Enter a Another Number:'))\n",
    "        operation=input('Enter any opertion: ').lower()\n",
    "        if operation=='+':\n",
    "            x=num1+num2\n",
    "            print(x)\n",
    "        elif operation=='-':\n",
    "            x=num1-num2\n",
    "            print(x)\n",
    "        elif operation=='*':\n",
    "            x=num1*num2\n",
    "            print(x)\n",
    "        elif operation=='/':\n",
    "            x=num1/num2\n",
    "            print(x)\n",
    "        elif operation=='quit':\n",
    "            break;\n",
    "            "
   ]
  },
  {
   "cell_type": "code",
   "execution_count": null,
   "metadata": {},
   "outputs": [
    {
     "name": "stdout",
     "output_type": "stream",
     "text": [
      "\t\t\t\t\t CALCULATOR\n",
      "Press + to Add\n",
      "Press - to Subtract\n",
      "Press * to Multiply\n",
      "Press / to Divide\n",
      "Press Quit to Exit only in Operation \n",
      "\n",
      "Enter a Number:24\n",
      "Enter a Another Number:12\n",
      "Enter any opertion: /\n",
      "2.0\n"
     ]
    }
   ],
   "source": [
    "calculator()"
   ]
  },
  {
   "cell_type": "code",
   "execution_count": 2,
   "metadata": {},
   "outputs": [
    {
     "name": "stdout",
     "output_type": "stream",
     "text": [
      "hello Ali\n",
      "hello Ahmed\n",
      "hello Faraz\n"
     ]
    }
   ],
   "source": [
    "def my_list(name):\n",
    "    for name1 in name:\n",
    "        print('hello',name1)\n",
    "\n",
    "a=['Ali',\"Ahmed\",\"Faraz\"]\n",
    "my_list(a)"
   ]
  },
  {
   "cell_type": "code",
   "execution_count": 9,
   "metadata": {},
   "outputs": [
    {
     "name": "stdout",
     "output_type": "stream",
     "text": [
      "Your data is :  Hammad\n",
      "Your data is :   Rizwan\n",
      "Your data is :   17 \n",
      "Your data is :   Male\n"
     ]
    }
   ],
   "source": [
    "def data(details):\n",
    "    for detail1 in details:\n",
    "        print('Your data is : ',detail1)\n",
    "\n",
    "a=['Hammad',\" Rizwan\" , \" 17 \",\" Male\"] \n",
    "data(a)"
   ]
  },
  {
   "cell_type": "code",
   "execution_count": 1,
   "metadata": {},
   "outputs": [
    {
     "name": "stdout",
     "output_type": "stream",
     "text": [
      "I have a  city\n",
      "The company name is  Honda\n"
     ]
    }
   ],
   "source": [
    "def mycar(name , company ='Honda', model=2012):\n",
    "    print('I have a ' , name)\n",
    "    print('The company name is ',company)\n",
    "mycar('city')"
   ]
  },
  {
   "cell_type": "code",
   "execution_count": 6,
   "metadata": {},
   "outputs": [
    {
     "name": "stdout",
     "output_type": "stream",
     "text": [
      "The size of my shirt is  33\n",
      "The text i want to write on it HI\n"
     ]
    }
   ],
   "source": [
    "#Over Write 2nd parameter\n",
    "def shirt(size,text='Apna Time Ayega'):\n",
    "    print('The size of my shirt is ',size)\n",
    "    print('The text i want to write on it',text.upper())\n",
    "shirt(33,'HI')"
   ]
  },
  {
   "cell_type": "code",
   "execution_count": 12,
   "metadata": {},
   "outputs": [
    {
     "name": "stdout",
     "output_type": "stream",
     "text": [
      "fname:  Ali\n",
      "Lname: Ahmed\n",
      "Age: 23\n",
      "Gender :  Male\n"
     ]
    }
   ],
   "source": [
    "def human(first_name,last_name,age,Gender):\n",
    "    person ={'fname: ': first_name,'Lname:':last_name,'Age:':age,'Gender : ':Gender}\n",
    "    for key,value in person.items():\n",
    "        return(key,value)\n",
    "\n",
    "        \n",
    "        \n",
    "human('Ali','Ahmed',23,\"Male\")"
   ]
  },
  {
   "cell_type": "code",
   "execution_count": 1,
   "metadata": {},
   "outputs": [
    {
     "name": "stdout",
     "output_type": "stream",
     "text": [
      "Write your first name : taha\n",
      "Write your Middle name : \n",
      "Write your last name : hammad\n",
      "taha hammad\n"
     ]
    }
   ],
   "source": [
    "def data():\n",
    "    f_name=input('Write your first name : ')\n",
    "    m_name=input('Write your Middle name : ')\n",
    "    l_name=input('Write your last name : ')\n",
    "    \n",
    "    if m_name=='':\n",
    "        print(f_name,l_name)\n",
    "    else:\n",
    "        print(f_name , m_name, l_name)\n",
    "data()\n"
   ]
  },
  {
   "cell_type": "code",
   "execution_count": 27,
   "metadata": {},
   "outputs": [
    {
     "name": "stdout",
     "output_type": "stream",
     "text": [
      "hammad rizwan\n"
     ]
    }
   ],
   "source": [
    "def info(f_name,l_name,m_name=\" \"):\n",
    "    if m_name==\" \" :\n",
    "        full_name=f_name+m_name+l_name\n",
    "    else:\n",
    "        full_name=f_name+l_name\n",
    "    return full_name\n",
    "a=info('hammad','rizwan')\n",
    "print(a)\n"
   ]
  },
  {
   "cell_type": "code",
   "execution_count": 36,
   "metadata": {},
   "outputs": [
    {
     "name": "stdout",
     "output_type": "stream",
     "text": [
      "FIRST_NAME: Hammad \n",
      "MIDDLE_NAME: Rizwan \n",
      "LAST_NAME: Naviwala \n",
      "AGE: 18 \n",
      "Address: Dhoraji\n"
     ]
    }
   ],
   "source": [
    "def info_form(f_name,l_name,m_name=\"\",age=0,Address=\"\"):\n",
    "    if m_name or age or Address:\n",
    "        print(\"FIRST_NAME:\",f_name,\"\\nMIDDLE_NAME:\",m_name,\"\\nLAST_NAME:\",l_name,\"\\nAGE:\",str(age),\"\\nAddress:\",Address)\n",
    "    else:\n",
    "         print(\"FIRST_NAME:\",f_name,\"\\nLAST_NAME:\",l_name)\n",
    "info_form('Hammad',\"Naviwala\",\"Rizwan\",18,\"Dhoraji\")\n"
   ]
  },
  {
   "cell_type": "code",
   "execution_count": 48,
   "metadata": {},
   "outputs": [
    {
     "name": "stdout",
     "output_type": "stream",
     "text": [
      "Here is your pizza\n",
      "cheese\n"
     ]
    }
   ],
   "source": [
    "def pizza(*topping):\n",
    "    print(\"Here is your pizza\")\n",
    "    for toppings in topping:\n",
    "        print(toppings)\n",
    "pizza('cheese')"
   ]
  },
  {
   "cell_type": "code",
   "execution_count": 49,
   "metadata": {},
   "outputs": [
    {
     "name": "stdout",
     "output_type": "stream",
     "text": [
      "Here is your pizza\n",
      "cheese\n",
      "vegetable\n",
      "fajita\n"
     ]
    }
   ],
   "source": [
    "pizza('cheese',\"vegetable\",'fajita')"
   ]
  },
  {
   "cell_type": "code",
   "execution_count": 51,
   "metadata": {},
   "outputs": [
    {
     "name": "stdout",
     "output_type": "stream",
     "text": [
      "malaiboti pepsi {'end': ['ice cream', 'chocolate']}\n"
     ]
    }
   ],
   "source": [
    "def kababjees(food,*drink,**sweetdish):\n",
    "    print(food,drink[0],sweetdish)\n",
    "kababjees('malaiboti','pepsi',end=['ice cream','chocolate'])"
   ]
  },
  {
   "cell_type": "code",
   "execution_count": null,
   "metadata": {},
   "outputs": [],
   "source": []
  },
  {
   "cell_type": "code",
   "execution_count": null,
   "metadata": {},
   "outputs": [],
   "source": []
  },
  {
   "cell_type": "code",
   "execution_count": null,
   "metadata": {},
   "outputs": [],
   "source": []
  },
  {
   "cell_type": "code",
   "execution_count": null,
   "metadata": {},
   "outputs": [],
   "source": []
  },
  {
   "cell_type": "code",
   "execution_count": null,
   "metadata": {},
   "outputs": [],
   "source": []
  },
  {
   "cell_type": "code",
   "execution_count": null,
   "metadata": {},
   "outputs": [],
   "source": []
  },
  {
   "cell_type": "code",
   "execution_count": null,
   "metadata": {},
   "outputs": [],
   "source": []
  },
  {
   "cell_type": "code",
   "execution_count": null,
   "metadata": {},
   "outputs": [],
   "source": []
  },
  {
   "cell_type": "code",
   "execution_count": null,
   "metadata": {},
   "outputs": [],
   "source": []
  },
  {
   "cell_type": "code",
   "execution_count": null,
   "metadata": {},
   "outputs": [],
   "source": []
  },
  {
   "cell_type": "code",
   "execution_count": null,
   "metadata": {},
   "outputs": [],
   "source": []
  },
  {
   "cell_type": "code",
   "execution_count": null,
   "metadata": {},
   "outputs": [],
   "source": []
  },
  {
   "cell_type": "code",
   "execution_count": null,
   "metadata": {},
   "outputs": [],
   "source": []
  },
  {
   "cell_type": "code",
   "execution_count": null,
   "metadata": {},
   "outputs": [],
   "source": []
  },
  {
   "cell_type": "code",
   "execution_count": null,
   "metadata": {},
   "outputs": [],
   "source": []
  },
  {
   "cell_type": "code",
   "execution_count": null,
   "metadata": {},
   "outputs": [],
   "source": []
  },
  {
   "cell_type": "code",
   "execution_count": null,
   "metadata": {},
   "outputs": [],
   "source": []
  },
  {
   "cell_type": "code",
   "execution_count": null,
   "metadata": {},
   "outputs": [],
   "source": []
  },
  {
   "cell_type": "code",
   "execution_count": null,
   "metadata": {},
   "outputs": [],
   "source": []
  },
  {
   "cell_type": "code",
   "execution_count": null,
   "metadata": {},
   "outputs": [],
   "source": []
  },
  {
   "cell_type": "code",
   "execution_count": null,
   "metadata": {},
   "outputs": [],
   "source": []
  },
  {
   "cell_type": "code",
   "execution_count": null,
   "metadata": {},
   "outputs": [],
   "source": []
  },
  {
   "cell_type": "code",
   "execution_count": null,
   "metadata": {},
   "outputs": [],
   "source": []
  },
  {
   "cell_type": "code",
   "execution_count": null,
   "metadata": {},
   "outputs": [],
   "source": []
  },
  {
   "cell_type": "code",
   "execution_count": null,
   "metadata": {},
   "outputs": [],
   "source": []
  },
  {
   "cell_type": "code",
   "execution_count": null,
   "metadata": {},
   "outputs": [],
   "source": []
  },
  {
   "cell_type": "code",
   "execution_count": null,
   "metadata": {},
   "outputs": [],
   "source": []
  },
  {
   "cell_type": "code",
   "execution_count": null,
   "metadata": {},
   "outputs": [],
   "source": []
  },
  {
   "cell_type": "code",
   "execution_count": null,
   "metadata": {},
   "outputs": [],
   "source": []
  },
  {
   "cell_type": "code",
   "execution_count": null,
   "metadata": {},
   "outputs": [],
   "source": []
  },
  {
   "cell_type": "code",
   "execution_count": null,
   "metadata": {},
   "outputs": [],
   "source": []
  }
 ],
 "metadata": {
  "kernelspec": {
   "display_name": "Python 3",
   "language": "python",
   "name": "python3"
  },
  "language_info": {
   "codemirror_mode": {
    "name": "ipython",
    "version": 3
   },
   "file_extension": ".py",
   "mimetype": "text/x-python",
   "name": "python",
   "nbconvert_exporter": "python",
   "pygments_lexer": "ipython3",
   "version": "3.7.1"
  }
 },
 "nbformat": 4,
 "nbformat_minor": 2
}
